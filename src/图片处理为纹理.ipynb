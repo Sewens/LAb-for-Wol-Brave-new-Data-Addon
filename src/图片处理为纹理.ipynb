{
 "cells": [
  {
   "cell_type": "markdown",
   "id": "17a7233d-6952-444b-b6b8-270e32374b91",
   "metadata": {},
   "source": [
    "# 调整图片为星际2可用贴图格式\n",
    "\n",
    "1. 调整alpha透明度\n",
    "2. 调整宽高比为正方形（alpha填充）\n",
    "3. 针对button，调整到统一的大小（76*76）\n",
    "4. 转换为`*.dds`"
   ]
  },
  {
   "cell_type": "markdown",
   "id": "63dd2a2d-dc33-46bc-8398-aec3a2be8a4b",
   "metadata": {},
   "source": [
    "### 安装dds转换依赖\n",
    "\n",
    "Wand库：https://imagemagick.org/script/download.php#windows"
   ]
  },
  {
   "cell_type": "code",
   "execution_count": 3,
   "id": "697d7097-3a68-4fe4-bfc7-8d7b8e40a690",
   "metadata": {
    "execution": {
     "iopub.execute_input": "2025-09-11T02:24:19.692352Z",
     "iopub.status.busy": "2025-09-11T02:24:19.692352Z",
     "iopub.status.idle": "2025-09-11T02:24:26.087416Z",
     "shell.execute_reply": "2025-09-11T02:24:26.087416Z",
     "shell.execute_reply.started": "2025-09-11T02:24:19.692352Z"
    }
   },
   "outputs": [
    {
     "name": "stdout",
     "output_type": "stream",
     "text": [
      "Collecting Wand\n",
      "  Downloading Wand-0.6.13-py2.py3-none-any.whl.metadata (4.0 kB)\n",
      "Downloading Wand-0.6.13-py2.py3-none-any.whl (143 kB)\n",
      "Installing collected packages: Wand\n",
      "Successfully installed Wand-0.6.13\n",
      "Note: you may need to restart the kernel to use updated packages.\n"
     ]
    }
   ],
   "source": [
    "%pip install Wand"
   ]
  },
  {
   "cell_type": "code",
   "execution_count": 1,
   "id": "f0c6f04f-577a-4262-9469-4e2537a28ee4",
   "metadata": {
    "execution": {
     "iopub.execute_input": "2025-09-12T01:44:27.526481Z",
     "iopub.status.busy": "2025-09-12T01:44:27.525479Z",
     "iopub.status.idle": "2025-09-12T01:44:27.798440Z",
     "shell.execute_reply": "2025-09-12T01:44:27.798440Z",
     "shell.execute_reply.started": "2025-09-12T01:44:27.526481Z"
    }
   },
   "outputs": [],
   "source": [
    "import os\n",
    "import io\n",
    "\n",
    "from PIL import Image as PilImage\n",
    "from wand.image import Image as WandImage"
   ]
  },
  {
   "cell_type": "markdown",
   "id": "60a22b7a-f91c-4f36-92e2-feccde0bee9b",
   "metadata": {},
   "source": [
    "## 1. 读取文件并转换宽高比"
   ]
  },
  {
   "cell_type": "code",
   "execution_count": 4,
   "id": "655b8728-c597-427a-8d52-d3145820a639",
   "metadata": {
    "execution": {
     "iopub.execute_input": "2025-09-12T01:44:28.270937Z",
     "iopub.status.busy": "2025-09-12T01:44:28.270543Z",
     "iopub.status.idle": "2025-09-12T01:44:28.274448Z",
     "shell.execute_reply": "2025-09-12T01:44:28.274448Z",
     "shell.execute_reply.started": "2025-09-12T01:44:28.270937Z"
    }
   },
   "outputs": [],
   "source": [
    "def resize_by_width(image_path, new_width):\n",
    "    \"\"\"\n",
    "    按固定宽度调整图像大小，同时保持宽高比。\n",
    "\n",
    "    :param image_path: 输入图片路径\n",
    "    :param new_width: 新的宽度\n",
    "    :param output_path: 输出图片路径\n",
    "    \"\"\"\n",
    "    img = PilImage.open(image_path)\n",
    "    # 计算新的高度\n",
    "    width_percent = (new_width / float(img.size[0]))\n",
    "    new_height = int((float(img.size[1]) * float(width_percent)))\n",
    "    # 调整图像大小\n",
    "    resized_img = img.resize((new_width, new_height), PilImage.Resampling.LANCZOS)\n",
    "    return resized_img"
   ]
  },
  {
   "cell_type": "code",
   "execution_count": 6,
   "id": "2c33f082-16c6-42ef-8a01-60c23d044635",
   "metadata": {
    "execution": {
     "iopub.execute_input": "2025-09-12T01:45:34.600871Z",
     "iopub.status.busy": "2025-09-12T01:45:34.600871Z",
     "iopub.status.idle": "2025-09-12T01:45:34.696761Z",
     "shell.execute_reply": "2025-09-12T01:45:34.696761Z",
     "shell.execute_reply.started": "2025-09-12T01:45:34.600871Z"
    }
   },
   "outputs": [],
   "source": [
    "resized_img = resize_by_width('../data/png/多彩核弹/btn-ability-terran-armnuke-rainbow.png',new_width=76)"
   ]
  },
  {
   "cell_type": "code",
   "execution_count": 8,
   "id": "11dde469-d572-4d74-a167-bf97bf190305",
   "metadata": {
    "execution": {
     "iopub.execute_input": "2025-09-12T01:45:35.073356Z",
     "iopub.status.busy": "2025-09-12T01:45:35.073356Z",
     "iopub.status.idle": "2025-09-12T01:45:35.084389Z",
     "shell.execute_reply": "2025-09-12T01:45:35.082864Z",
     "shell.execute_reply.started": "2025-09-12T01:45:35.073356Z"
    }
   },
   "outputs": [
    {
     "data": {
      "image/png": "[encoded data removed]",
      "text/plain": [
       "<PIL.Image.Image image mode=RGBA size=76x76>"
      ]
     },
     "execution_count": 8,
     "metadata": {},
     "output_type": "execute_result"
    }
   ],
   "source": [
    "resized_img"
   ]
  },
  {
   "cell_type": "markdown",
   "id": "ea5921db-5d63-4475-8ca8-df3782e039df",
   "metadata": {},
   "source": [
    "## 2.转换并输出到目录"
   ]
  },
  {
   "cell_type": "code",
   "execution_count": 11,
   "id": "18e32be0-1b1c-4ecb-a9dc-3d38979ab332",
   "metadata": {
    "execution": {
     "iopub.execute_input": "2025-09-12T01:45:36.520479Z",
     "iopub.status.busy": "2025-09-12T01:45:36.519480Z",
     "iopub.status.idle": "2025-09-12T01:45:36.526493Z",
     "shell.execute_reply": "2025-09-12T01:45:36.525988Z",
     "shell.execute_reply.started": "2025-09-12T01:45:36.520479Z"
    }
   },
   "outputs": [],
   "source": [
    "def process_and_convert_to_dds(pil_image, dds_path, compression='dxt5'):\n",
    "    \"\"\"\n",
    "    接收一个 Pillow 图像对象，进行处理（可选），然后转换为 DDS。\n",
    "\n",
    "    :param pil_image: 输入的 Pillow Image 对象。\n",
    "    :param dds_path: 输出的 DDS 文件路径。\n",
    "    :param compression: DDS 压缩格式。\n",
    "    \"\"\"\n",
    "    try:\n",
    "        # --- 核心步骤：将 Pillow 对象转换为 Wand 对象 ---\n",
    "        image_binary = io.BytesIO()\n",
    "        pil_image.save(image_binary, format='png')\n",
    "        image_binary.seek(0)\n",
    "        \n",
    "        with WandImage(blob=image_binary.read()) as img:\n",
    "            # 现在 img 是一个 wand 对象，可以进行 wand 的操作\n",
    "            img.options['dds:compression'] = compression\n",
    "            img.options['dds:mipmaps'] = '7'\n",
    "            img.save(filename=dds_path)\n",
    "            \n",
    "        print(f\"成功将处理后的图像转换为 '{dds_path}' (压缩格式: {compression})\")\n",
    "\n",
    "    except Exception as e:\n",
    "        print(f\"转换失败: {e}\")"
   ]
  },
  {
   "cell_type": "code",
   "execution_count": 13,
   "id": "45b9f08f-4789-4d58-a30c-7302cc1a0d37",
   "metadata": {
    "execution": {
     "iopub.execute_input": "2025-09-12T01:45:36.742394Z",
     "iopub.status.busy": "2025-09-12T01:45:36.741397Z",
     "iopub.status.idle": "2025-09-12T01:45:36.749566Z",
     "shell.execute_reply": "2025-09-12T01:45:36.748554Z",
     "shell.execute_reply.started": "2025-09-12T01:45:36.742394Z"
    }
   },
   "outputs": [],
   "source": [
    "def convert_png_to_dds(png_image_obj, save_fname, dds_save_folder, compression='dxt5'):\n",
    "    \"\"\"\n",
    "    使用 Wand (ImageMagick) 将 PNG 转换为 DDS。\n",
    "\n",
    "    :param png_path: 输入的 PNG 文件路径。\n",
    "    :param dds_path: 输出的 DDS 文件路径。\n",
    "    :param compression: DDS 压缩格式 (例如 'dxt1', 'dxt5', 'none')。\n",
    "    \"\"\"\n",
    "    try:\n",
    "        # --- 核心步骤：将 Pillow 对象转换为 Wand 对象 ---\n",
    "        image_binary = io.BytesIO()\n",
    "        png_image_obj.save(image_binary, format='png')\n",
    "        image_binary.seek(0)\n",
    "        \n",
    "        with WandImage(blob=image_binary.read()) as img:\n",
    "            # 现在 img 是一个 wand 对象，可以进行 wand 的操作\n",
    "            img.options['dds:compression'] = compression\n",
    "            img.options['dds:mipmaps'] = '7'\n",
    "            \n",
    "            img.save(filename=os.path.join(dds_save_folder,save_fname.replace('.png','.dds')))\n",
    "        print(f\"成功将 '{save_fname}' 转换保存到 '{dds_save_folder}' (压缩格式: {compression})\")\n",
    "    except Exception as e:\n",
    "        print(f\"转换失败: {e}\")"
   ]
  },
  {
   "cell_type": "markdown",
   "id": "1d85d4ef-d0b7-4947-a77b-fe70194ac7f6",
   "metadata": {},
   "source": [
    "## 3.批量转换"
   ]
  },
  {
   "cell_type": "code",
   "execution_count": 16,
   "id": "f0276eac-d8fc-4858-a058-d80228e7b67d",
   "metadata": {
    "execution": {
     "iopub.execute_input": "2025-09-12T01:45:48.086465Z",
     "iopub.status.busy": "2025-09-12T01:45:48.086465Z",
     "iopub.status.idle": "2025-09-12T01:45:48.404318Z",
     "shell.execute_reply": "2025-09-12T01:45:48.404318Z",
     "shell.execute_reply.started": "2025-09-12T01:45:48.086465Z"
    }
   },
   "outputs": [
    {
     "name": "stdout",
     "output_type": "stream",
     "text": [
      "成功将 'btn-ability-terran-armnuke-black.png' 转换保存到 '../data/assets/' (压缩格式: dxt5)\n",
      "成功将 'btn-ability-terran-armnuke-blue.png' 转换保存到 '../data/assets/' (压缩格式: dxt5)\n",
      "成功将 'btn-ability-terran-armnuke-green.png' 转换保存到 '../data/assets/' (压缩格式: dxt5)\n",
      "成功将 'btn-ability-terran-armnuke-rainbow.png' 转换保存到 '../data/assets/' (压缩格式: dxt5)\n",
      "成功将 'btn-ability-terran-armnuke-red.png' 转换保存到 '../data/assets/' (压缩格式: dxt5)\n",
      "成功将 'btn-ability-terran-armnuke-white.png' 转换保存到 '../data/assets/' (压缩格式: dxt5)\n",
      "成功将 'btn-ability-terran-armnuke-yellow.png' 转换保存到 '../data/assets/' (压缩格式: dxt5)\n"
     ]
    }
   ],
   "source": [
    "png_folder = '../data/png/多彩核弹/'\n",
    "for fname in os.listdir(png_folder):\n",
    "    resized_img = resize_by_width(os.path.join(png_folder, fname),76)\n",
    "    convert_png_to_dds(png_image_obj=resized_img,save_fname=fname,dds_save_folder='../data/assets/')"
   ]
  },
  {
   "cell_type": "code",
   "execution_count": null,
   "id": "6a4dbec1-ab8f-40a4-b29f-4288f70f98fb",
   "metadata": {},
   "outputs": [],
   "source": []
  },
  {
   "cell_type": "code",
   "execution_count": null,
   "id": "94bffc4a-09a7-4d4f-896d-56593a2940d9",
   "metadata": {},
   "outputs": [],
   "source": []
  }
 ],
 "metadata": {
  "kernelspec": {
   "display_name": "Python [conda env:base] *",
   "language": "python",
   "name": "conda-base-py"
  },
  "language_info": {
   "codemirror_mode": {
    "name": "ipython",
    "version": 3
   },
   "file_extension": ".py",
   "mimetype": "text/x-python",
   "name": "python",
   "nbconvert_exporter": "python",
   "pygments_lexer": "ipython3",
   "version": "3.12.7"
  },
  "widgets": {
   "application/vnd.jupyter.widget-state+json": {
    "state": {},
    "version_major": 2,
    "version_minor": 0
   }
  }
 },
 "nbformat": 4,
 "nbformat_minor": 5
}
