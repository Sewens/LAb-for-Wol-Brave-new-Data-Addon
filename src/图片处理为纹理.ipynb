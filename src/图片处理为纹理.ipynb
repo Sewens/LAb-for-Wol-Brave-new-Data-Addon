{
 "cells": [
  {
   "cell_type": "markdown",
   "id": "17a7233d-6952-444b-b6b8-270e32374b91",
   "metadata": {},
   "source": [
    "# 调整图片为星际2可用贴图格式\n",
    "\n",
    "1. 调整alpha透明度\n",
    "2. 调整宽高比为正方形（alpha填充）\n",
    "3. 针对button，调整到统一的大小（76*76）\n",
    "4. 转换为`*.dds`"
   ]
  },
  {
   "cell_type": "markdown",
   "id": "63dd2a2d-dc33-46bc-8398-aec3a2be8a4b",
   "metadata": {},
   "source": [
    "### 安装dds转换依赖\n",
    "\n",
    "Wand库：https://imagemagick.org/script/download.php#windows"
   ]
  },
  {
   "cell_type": "code",
   "execution_count": 3,
   "id": "697d7097-3a68-4fe4-bfc7-8d7b8e40a690",
   "metadata": {
    "execution": {
     "iopub.execute_input": "2025-09-27T06:43:00.662707Z",
     "iopub.status.busy": "2025-09-27T06:43:00.662707Z",
     "iopub.status.idle": "2025-09-27T06:43:04.738805Z",
     "shell.execute_reply": "2025-09-27T06:43:04.737792Z",
     "shell.execute_reply.started": "2025-09-27T06:43:00.662707Z"
    }
   },
   "outputs": [
    {
     "name": "stdout",
     "output_type": "stream",
     "text": [
      "Requirement already satisfied: Wand in c:\\envs\\anaconda3\\lib\\site-packages (0.6.13)\n",
      "Note: you may need to restart the kernel to use updated packages.\n"
     ]
    }
   ],
   "source": [
    "%pip install Wand"
   ]
  },
  {
   "cell_type": "code",
   "execution_count": 4,
   "id": "f0c6f04f-577a-4262-9469-4e2537a28ee4",
   "metadata": {
    "execution": {
     "iopub.execute_input": "2025-09-27T06:43:04.738805Z",
     "iopub.status.busy": "2025-09-27T06:43:04.738805Z",
     "iopub.status.idle": "2025-09-27T06:43:05.051510Z",
     "shell.execute_reply": "2025-09-27T06:43:05.051510Z",
     "shell.execute_reply.started": "2025-09-27T06:43:04.738805Z"
    }
   },
   "outputs": [],
   "source": [
    "import os\n",
    "import io\n",
    "\n",
    "from PIL import Image as PilImage\n",
    "from wand.image import Image as WandImage"
   ]
  },
  {
   "cell_type": "markdown",
   "id": "5f2c5e12-524e-4269-9d65-35a6d2bfa03b",
   "metadata": {},
   "source": [
    "# 0.DDS处理为图片"
   ]
  },
  {
   "cell_type": "code",
   "execution_count": 6,
   "id": "209d5fac-6967-49e8-950a-e329211ff6f5",
   "metadata": {
    "execution": {
     "iopub.execute_input": "2025-09-27T06:43:05.072371Z",
     "iopub.status.busy": "2025-09-27T06:43:05.072371Z",
     "iopub.status.idle": "2025-09-27T06:43:05.084047Z",
     "shell.execute_reply": "2025-09-27T06:43:05.083017Z",
     "shell.execute_reply.started": "2025-09-27T06:43:05.072371Z"
    }
   },
   "outputs": [],
   "source": [
    "from wand.exceptions import WandError\n",
    "import os\n",
    "\n",
    "def convert_dds_to_png_wand(dds_path, png_path):\n",
    "    \"\"\"\n",
    "    使用 Wand (ImageMagick) 将 DDS 文件转换为 PNG 文件。\n",
    "\n",
    "    :param dds_path: 输入的 DDS 文件路径。\n",
    "    :param png_path: 输出的 PNG 文件路径。\n",
    "    \"\"\"\n",
    "    if not os.path.exists(dds_path):\n",
    "        print(f\"错误: 输入文件 '{dds_path}' 不存在。\")\n",
    "        return\n",
    "\n",
    "    try:\n",
    "        # 使用 'with' 语句可以确保资源被正确关闭\n",
    "        with WandImage(filename=dds_path) as img:\n",
    "            # 将图像格式转换为 'png'，这会处理好内部的颜色和通道\n",
    "            img.format = 'png'\n",
    "            # 保存转换后的文件\n",
    "            img.save(filename=png_path)\n",
    "        print(f\"成功将 '{dds_path}' 转换为 '{png_path}'\")\n",
    "    except WandError as e:\n",
    "        print(f\"转换失败: {e}\")\n",
    "        print(\"请检查:\")\n",
    "        print(\"1. ImageMagick 是否已正确安装并添加到系统 PATH。\")\n",
    "        print(\"2. 您的 ImageMagick 版本是否支持该 DDS 文件的压缩格式。\")\n",
    "    except Exception as e:\n",
    "        print(f\"发生未知错误: {e}\")"
   ]
  },
  {
   "cell_type": "markdown",
   "id": "60a22b7a-f91c-4f36-92e2-feccde0bee9b",
   "metadata": {},
   "source": [
    "## 1. 读取文件并转换宽高比"
   ]
  },
  {
   "cell_type": "code",
   "execution_count": 8,
   "id": "655b8728-c597-427a-8d52-d3145820a639",
   "metadata": {
    "execution": {
     "iopub.execute_input": "2025-09-27T06:43:05.103780Z",
     "iopub.status.busy": "2025-09-27T06:43:05.103780Z",
     "iopub.status.idle": "2025-09-27T06:43:05.111896Z",
     "shell.execute_reply": "2025-09-27T06:43:05.110323Z",
     "shell.execute_reply.started": "2025-09-27T06:43:05.103780Z"
    }
   },
   "outputs": [],
   "source": [
    "def resize_by_width(image_path, new_width):\n",
    "    \"\"\"\n",
    "    按固定宽度调整图像大小，同时保持宽高比。\n",
    "\n",
    "    :param image_path: 输入图片路径\n",
    "    :param new_width: 新的宽度\n",
    "    :param output_path: 输出图片路径\n",
    "    \"\"\"\n",
    "    img = PilImage.open(image_path)\n",
    "    # 计算新的高度\n",
    "    width_percent = (new_width / float(img.size[0]))\n",
    "    new_height = int((float(img.size[1]) * float(width_percent)))\n",
    "    # 调整图像大小\n",
    "    resized_img = img.resize((new_width, new_height), PilImage.Resampling.LANCZOS)\n",
    "    return resized_img"
   ]
  },
  {
   "cell_type": "code",
   "execution_count": 6,
   "id": "2c33f082-16c6-42ef-8a01-60c23d044635",
   "metadata": {
    "execution": {
     "iopub.execute_input": "2025-09-12T01:45:34.600871Z",
     "iopub.status.busy": "2025-09-12T01:45:34.600871Z",
     "iopub.status.idle": "2025-09-12T01:45:34.696761Z",
     "shell.execute_reply": "2025-09-12T01:45:34.696761Z",
     "shell.execute_reply.started": "2025-09-12T01:45:34.600871Z"
    }
   },
   "outputs": [],
   "source": [
    "resized_img = resize_by_width('../data/png/多彩核弹/btn-ability-terran-armnuke-rainbow.png',new_width=76)"
   ]
  },
  {
   "cell_type": "code",
   "execution_count": 8,
   "id": "11dde469-d572-4d74-a167-bf97bf190305",
   "metadata": {
    "execution": {
     "iopub.execute_input": "2025-09-12T01:45:35.073356Z",
     "iopub.status.busy": "2025-09-12T01:45:35.073356Z",
     "iopub.status.idle": "2025-09-12T01:45:35.084389Z",
     "shell.execute_reply": "2025-09-12T01:45:35.082864Z",
     "shell.execute_reply.started": "2025-09-12T01:45:35.073356Z"
    }
   },
   "outputs": [
    {
     "data": {
      "image/png": "[encoded data removed]",
      "text/plain": [
       "<PIL.Image.Image image mode=RGBA size=76x76>"
      ]
     },
     "execution_count": 8,
     "metadata": {},
     "output_type": "execute_result"
    }
   ],
   "source": [
    "base_name = '../'"
   ]
  },
  {
   "cell_type": "markdown",
   "id": "ea5921db-5d63-4475-8ca8-df3782e039df",
   "metadata": {},
   "source": [
    "## 2.转换并输出到目录"
   ]
  },
  {
   "cell_type": "code",
   "execution_count": 9,
   "id": "18e32be0-1b1c-4ecb-a9dc-3d38979ab332",
   "metadata": {
    "execution": {
     "iopub.execute_input": "2025-09-27T06:43:05.112902Z",
     "iopub.status.busy": "2025-09-27T06:43:05.112902Z",
     "iopub.status.idle": "2025-09-27T06:43:05.121049Z",
     "shell.execute_reply": "2025-09-27T06:43:05.119823Z",
     "shell.execute_reply.started": "2025-09-27T06:43:05.112902Z"
    }
   },
   "outputs": [],
   "source": [
    "def convert_png_to_dds(pil_image, dds_path, compression='dxt5'):\n",
    "    \"\"\"\n",
    "    接收一个 Pillow 图像对象，进行处理（可选），然后转换为 DDS。\n",
    "\n",
    "    :param pil_image: 输入的 Pillow Image 对象。\n",
    "    :param dds_path: 输出的 DDS 文件路径。\n",
    "    :param compression: DDS 压缩格式。\n",
    "    \"\"\"\n",
    "    try:\n",
    "        # --- 核心步骤：将 Pillow 对象转换为 Wand 对象 ---\n",
    "        image_binary = io.BytesIO()\n",
    "        pil_image.save(image_binary, format='png')\n",
    "        image_binary.seek(0)\n",
    "        \n",
    "        with WandImage(blob=image_binary.read()) as img:\n",
    "            # 现在 img 是一个 wand 对象，可以进行 wand 的操作\n",
    "            img.options['dds:compression'] = compression\n",
    "            img.options['dds:mipmaps'] = '7'\n",
    "            img.save(filename=dds_path)\n",
    "            \n",
    "        print(f\"成功将处理后的图像转换为 '{dds_path}' (压缩格式: {compression})\")\n",
    "\n",
    "    except Exception as e:\n",
    "        print(f\"转换失败: {e}\")"
   ]
  },
  {
   "cell_type": "code",
   "execution_count": 10,
   "id": "45b9f08f-4789-4d58-a30c-7302cc1a0d37",
   "metadata": {
    "execution": {
     "iopub.execute_input": "2025-09-27T06:43:05.122103Z",
     "iopub.status.busy": "2025-09-27T06:43:05.122103Z",
     "iopub.status.idle": "2025-09-27T06:43:05.129230Z",
     "shell.execute_reply": "2025-09-27T06:43:05.129230Z",
     "shell.execute_reply.started": "2025-09-27T06:43:05.122103Z"
    }
   },
   "outputs": [],
   "source": [
    "def convert_png_to_dds(png_image_obj, save_fname, dds_save_folder, compression='dxt5',generate_mipmaps=True):\n",
    "    \"\"\"\n",
    "    使用 Wand (ImageMagick) 将 PNG 转换为 DDS。\n",
    "\n",
    "    :param png_path: 输入的 PNG 文件路径。\n",
    "    :param dds_path: 输出的 DDS 文件路径。\n",
    "    :param compression: DDS 压缩格式 (例如 'dxt1', 'dxt5', 'none')。\n",
    "    \"\"\"\n",
    "    try:\n",
    "        # --- 核心步骤：将 Pillow 对象转换为 Wand 对象 ---\n",
    "        image_binary = io.BytesIO()\n",
    "        png_image_obj.save(image_binary, format='png')\n",
    "        image_binary.seek(0)\n",
    "        dds_path = os.path.join(dds_save_folder,save_fname.lower().replace('.png','.dds'))\n",
    "        with WandImage(blob=image_binary.read()) as original_img:\n",
    "            with original_img.clone() as color_fixed_img:\n",
    "                # 步骤1: 修复颜色渗透\n",
    "                # 'remove' 操作会用边缘颜色填充透明区域，然后使图像变为不透明。\n",
    "                # 这是我们修复 RGB 通道的关键步骤。\n",
    "                color_fixed_img.alpha_channel = 'remove'\n",
    "\n",
    "                # 步骤2: 恢复原始 Alpha 通道\n",
    "                # 将 original_img 的 Alpha 通道复制回 color_fixed_img。\n",
    "                # 这保证了 Alpha 通道 100% 不变，实现了您的“保留alpha通道”的要求。\n",
    "                color_fixed_img.composite(original_img, operator='copy_alpha')\n",
    "                \n",
    "                # 步骤3: 设置 DDS 选项并保存最终结果\n",
    "                color_fixed_img.options['dds:compression'] = compression\n",
    "                color_fixed_img.options['dds:mipmaps'] = '7' # 生成 mipmaps\n",
    "                color_fixed_img.save(filename=dds_path)\n",
    "            \n",
    "        print(f\"成功将 '{save_fname}' 转换保存到 '{dds_path}' (压缩格式: {compression})\")\n",
    "    except Exception as e:\n",
    "        print(f\"转换失败: {e}\")"
   ]
  },
  {
   "cell_type": "markdown",
   "id": "1d85d4ef-d0b7-4947-a77b-fe70194ac7f6",
   "metadata": {},
   "source": [
    "## 3.批量转换"
   ]
  },
  {
   "cell_type": "code",
   "execution_count": null,
   "id": "3b309ad5-8fae-475b-9045-9c42c156a2a5",
   "metadata": {},
   "outputs": [],
   "source": []
  },
  {
   "cell_type": "code",
   "execution_count": 17,
   "id": "f0276eac-d8fc-4858-a058-d80228e7b67d",
   "metadata": {
    "execution": {
     "iopub.execute_input": "2025-09-27T06:43:12.113545Z",
     "iopub.status.busy": "2025-09-27T06:43:12.113545Z",
     "iopub.status.idle": "2025-09-27T06:43:12.333432Z",
     "shell.execute_reply": "2025-09-27T06:43:12.332416Z",
     "shell.execute_reply.started": "2025-09-27T06:43:12.113545Z"
    }
   },
   "outputs": [
    {
     "name": "stdout",
     "output_type": "stream",
     "text": [
      "成功将 'btn-Ability-MeleeDamage.PNG' 转换保存到 '../data/assets/btn-ability-meleedamage.dds' (压缩格式: dxt3)\n",
      "成功将 'btn-Ability-TheBlackArrow.PNG' 转换保存到 '../data/assets/btn-ability-theblackarrow.dds' (压缩格式: dxt3)\n",
      "成功将 'btn-Ability-ThunderBolt.PNG' 转换保存到 '../data/assets/btn-ability-thunderbolt.dds' (压缩格式: dxt3)\n",
      "成功将 'btn-Ability-ThunderClap.PNG' 转换保存到 '../data/assets/btn-ability-thunderclap.dds' (压缩格式: dxt3)\n",
      "成功将 'btn-shooter-aura.PNG' 转换保存到 '../data/assets/btn-shooter-aura.dds' (压缩格式: dxt3)\n"
     ]
    }
   ],
   "source": [
    "png_folder = '../data/原始png/按钮/'\n",
    "for fname in os.listdir(png_folder):\n",
    "    resized_img = resize_by_width(os.path.join(png_folder, fname),76)\n",
    "    convert_png_to_dds(png_image_obj=resized_img,\n",
    "                       save_fname=fname,\n",
    "                       dds_save_folder='../data/assets/',\n",
    "                       compression='dxt3',generate_mipmaps=True)"
   ]
  },
  {
   "cell_type": "code",
   "execution_count": 47,
   "id": "6a4dbec1-ab8f-40a4-b29f-4288f70f98fb",
   "metadata": {
    "execution": {
     "iopub.execute_input": "2025-09-14T14:58:42.428015Z",
     "iopub.status.busy": "2025-09-14T14:58:42.428015Z",
     "iopub.status.idle": "2025-09-14T14:58:42.438352Z",
     "shell.execute_reply": "2025-09-14T14:58:42.438352Z",
     "shell.execute_reply.started": "2025-09-14T14:58:42.428015Z"
    }
   },
   "outputs": [
    {
     "data": {
      "image/png": "[encoded data removed]",
      "text/plain": [
       "<PIL.Image.Image image mode=RGBA size=76x76>"
      ]
     },
     "execution_count": 47,
     "metadata": {},
     "output_type": "execute_result"
    }
   ],
   "source": [
    "resized_img"
   ]
  },
  {
   "cell_type": "code",
   "execution_count": null,
   "id": "94bffc4a-09a7-4d4f-896d-56593a2940d9",
   "metadata": {},
   "outputs": [],
   "source": []
  }
 ],
 "metadata": {
  "kernelspec": {
   "display_name": "Python [conda env:base] *",
   "language": "python",
   "name": "conda-base-py"
  },
  "language_info": {
   "codemirror_mode": {
    "name": "ipython",
    "version": 3
   },
   "file_extension": ".py",
   "mimetype": "text/x-python",
   "name": "python",
   "nbconvert_exporter": "python",
   "pygments_lexer": "ipython3",
   "version": "3.12.7"
  },
  "widgets": {
   "application/vnd.jupyter.widget-state+json": {
    "state": {},
    "version_major": 2,
    "version_minor": 0
   }
  }
 },
 "nbformat": 4,
 "nbformat_minor": 5
}
